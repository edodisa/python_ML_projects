{
 "cells": [
  {
   "cell_type": "markdown",
   "id": "925f3325",
   "metadata": {},
   "source": [
    "# MNIST Classification with NN\n",
    "\n",
    "In this project, using the **MNIST Dataset** already present in keras we will implement an Artificial Neural Network to provide a multiclass classification on digital images of handwritten digits, 0 to 9."
   ]
  },
  {
   "cell_type": "code",
   "execution_count": 89,
   "id": "4b419bcc",
   "metadata": {},
   "outputs": [],
   "source": [
    "import pandas as pd\n",
    "import numpy as np\n",
    "import matplotlib.pyplot as plt\n",
    "import seaborn as sns"
   ]
  },
  {
   "cell_type": "markdown",
   "id": "663a7790",
   "metadata": {},
   "source": [
    "## Load the data"
   ]
  },
  {
   "cell_type": "code",
   "execution_count": 90,
   "id": "0f7b418d",
   "metadata": {},
   "outputs": [],
   "source": [
    "from keras.datasets import mnist\n",
    "(x_train, y_train), (x_test, y_test) = mnist.load_data()     "
   ]
  },
  {
   "cell_type": "code",
   "execution_count": 91,
   "id": "e77c151e",
   "metadata": {},
   "outputs": [
    {
     "name": "stdout",
     "output_type": "stream",
     "text": [
      "(60000, 28, 28) (60000,)\n",
      "(10000, 28, 28) (10000,)\n"
     ]
    }
   ],
   "source": [
    "print(x_train.shape, y_train.shape)\n",
    "print(x_test.shape, y_test.shape)"
   ]
  },
  {
   "cell_type": "markdown",
   "id": "2555395a",
   "metadata": {},
   "source": [
    "## Visualize data"
   ]
  },
  {
   "cell_type": "code",
   "execution_count": 92,
   "id": "4df6d6f6",
   "metadata": {},
   "outputs": [
    {
     "data": {
      "image/png": "[encoded data removed]",
      "text/plain": [
       "<Figure size 2000x2000 with 10 Axes>"
      ]
     },
     "metadata": {},
     "output_type": "display_data"
    }
   ],
   "source": [
    "n_classes = 10\n",
    "f, ax = plt.subplots(1, n_classes, figsize=(20,20))\n",
    "\n",
    "for i in range(0, n_classes):\n",
    "    sample = x_train[y_train == i][0]\n",
    "    ax[i].imshow(sample, cmap='gray')\n",
    "    ax[i].set_title(\"Label: {}\".format(i), fontsize=16)"
   ]
  },
  {
   "cell_type": "code",
   "execution_count": 93,
   "id": "25f9b33a",
   "metadata": {},
   "outputs": [
    {
     "name": "stdout",
     "output_type": "stream",
     "text": [
      "5\n",
      "0\n",
      "4\n",
      "1\n",
      "9\n",
      "2\n",
      "1\n",
      "3\n",
      "1\n",
      "4\n"
     ]
    }
   ],
   "source": [
    "for i in range(10):\n",
    "    print(y_train[i])"
   ]
  },
  {
   "cell_type": "markdown",
   "id": "63b6d4df",
   "metadata": {},
   "source": [
    "As we can see from the print above, we need to encode the labels."
   ]
  },
  {
   "cell_type": "markdown",
   "id": "b0d6316e",
   "metadata": {},
   "source": [
    "## Encode the labels\n",
    "\n",
    "The output is expressed as a number from 0 to 9, which corresponds to the image shown. Our network will have 10 output nodes, so we need to create 10 different outputs using dummy variables."
   ]
  },
  {
   "cell_type": "code",
   "execution_count": 94,
   "id": "9562d557",
   "metadata": {},
   "outputs": [],
   "source": [
    "from tensorflow.keras.utils import to_categorical\n",
    "y_train = to_categorical(y_train, n_classes)\n",
    "y_test = to_categorical(y_test, n_classes)"
   ]
  },
  {
   "cell_type": "code",
   "execution_count": 95,
   "id": "eb164144",
   "metadata": {},
   "outputs": [
    {
     "name": "stdout",
     "output_type": "stream",
     "text": [
      "[0. 0. 0. 0. 0. 1. 0. 0. 0. 0.]\n",
      "[1. 0. 0. 0. 0. 0. 0. 0. 0. 0.]\n",
      "[0. 0. 0. 0. 1. 0. 0. 0. 0. 0.]\n",
      "[0. 1. 0. 0. 0. 0. 0. 0. 0. 0.]\n",
      "[0. 0. 0. 0. 0. 0. 0. 0. 0. 1.]\n",
      "[0. 0. 1. 0. 0. 0. 0. 0. 0. 0.]\n",
      "[0. 1. 0. 0. 0. 0. 0. 0. 0. 0.]\n",
      "[0. 0. 0. 1. 0. 0. 0. 0. 0. 0.]\n",
      "[0. 1. 0. 0. 0. 0. 0. 0. 0. 0.]\n",
      "[0. 0. 0. 0. 1. 0. 0. 0. 0. 0.]\n"
     ]
    }
   ],
   "source": [
    "for i in range(10):\n",
    "    print(y_train[i])"
   ]
  },
  {
   "cell_type": "markdown",
   "id": "aebdb496",
   "metadata": {},
   "source": [
    "## Normalize the data\n",
    "\n",
    "Since these are images, normalization should be performed. Pixel intensity is expressed as a value ranging from 0 to 255, so to normalize we can simply divide by 255"
   ]
  },
  {
   "cell_type": "code",
   "execution_count": 96,
   "id": "27dd7e5f",
   "metadata": {},
   "outputs": [],
   "source": [
    "# Normalize Data\n",
    "x_train = x_train / 255.0\n",
    "x_test = x_test / 255.0"
   ]
  },
  {
   "cell_type": "code",
   "execution_count": 97,
   "id": "a674c3a4",
   "metadata": {},
   "outputs": [
    {
     "name": "stdout",
     "output_type": "stream",
     "text": [
      "(60000, 784)\n"
     ]
    }
   ],
   "source": [
    "# Reshape Data\n",
    "x_train = x_train.reshape(x_train.shape[0], -1)\n",
    "x_test = x_test.reshape(x_test.shape[0], -1)\n",
    "print(x_train.shape)"
   ]
  },
  {
   "cell_type": "markdown",
   "id": "03c0a710",
   "metadata": {},
   "source": [
    "The input shape is then 784, the dimension of the flatten image."
   ]
  },
  {
   "cell_type": "markdown",
   "id": "edc13a6a",
   "metadata": {},
   "source": [
    "# Create the model\n",
    "\n",
    "Now we can create our model. To perform a multiclass classification we must set the **softmax** as the output layer activation function and the number of classes as the number of nodes."
   ]
  },
  {
   "cell_type": "code",
   "execution_count": 98,
   "id": "e6d5ed72",
   "metadata": {},
   "outputs": [],
   "source": [
    "from tensorflow.keras.models import Sequential\n",
    "from tensorflow.keras.layers import Dense, Dropout"
   ]
  },
  {
   "cell_type": "code",
   "execution_count": 99,
   "id": "cf3db5ed",
   "metadata": {},
   "outputs": [],
   "source": [
    "model = Sequential()\n",
    "model.add(Dense(units=128, input_shape=(784,), activation='relu'))\n",
    "model.add(Dense(units=128, activation='relu'))\n",
    "model.add(Dropout(0.25))\n",
    "model.add(Dense(units=10, activation='softmax'))"
   ]
  },
  {
   "cell_type": "code",
   "execution_count": 100,
   "id": "e232ed71",
   "metadata": {},
   "outputs": [
    {
     "name": "stdout",
     "output_type": "stream",
     "text": [
      "Model: \"sequential_4\"\n",
      "_________________________________________________________________\n",
      " Layer (type)                Output Shape              Param #   \n",
      "=================================================================\n",
      " dense_12 (Dense)            (None, 128)               100480    \n",
      "                                                                 \n",
      " dense_13 (Dense)            (None, 128)               16512     \n",
      "                                                                 \n",
      " dropout_2 (Dropout)         (None, 128)               0         \n",
      "                                                                 \n",
      " dense_14 (Dense)            (None, 10)                1290      \n",
      "                                                                 \n",
      "=================================================================\n",
      "Total params: 118,282\n",
      "Trainable params: 118,282\n",
      "Non-trainable params: 0\n",
      "_________________________________________________________________\n"
     ]
    }
   ],
   "source": [
    "model.summary()"
   ]
  },
  {
   "cell_type": "code",
   "execution_count": 101,
   "id": "00b02e2e",
   "metadata": {},
   "outputs": [],
   "source": [
    "model.compile(loss='categorical_crossentropy', optimizer='adam', metrics=['accuracy'])"
   ]
  },
  {
   "cell_type": "code",
   "execution_count": 102,
   "id": "31e9dada",
   "metadata": {},
   "outputs": [
    {
     "name": "stdout",
     "output_type": "stream",
     "text": [
      "Epoch 1/10\n",
      "118/118 [==============================] - 1s 4ms/step - loss: 0.5943 - accuracy: 0.8271\n",
      "Epoch 2/10\n",
      "118/118 [==============================] - 0s 4ms/step - loss: 0.2251 - accuracy: 0.9352\n",
      "Epoch 3/10\n",
      "118/118 [==============================] - 0s 4ms/step - loss: 0.1641 - accuracy: 0.9524\n",
      "Epoch 4/10\n",
      "118/118 [==============================] - 0s 4ms/step - loss: 0.1305 - accuracy: 0.9618\n",
      "Epoch 5/10\n",
      "118/118 [==============================] - 0s 4ms/step - loss: 0.1088 - accuracy: 0.9676\n",
      "Epoch 6/10\n",
      "118/118 [==============================] - 0s 4ms/step - loss: 0.0916 - accuracy: 0.9727\n",
      "Epoch 7/10\n",
      "118/118 [==============================] - 0s 4ms/step - loss: 0.0787 - accuracy: 0.9765\n",
      "Epoch 8/10\n",
      "118/118 [==============================] - 0s 4ms/step - loss: 0.0694 - accuracy: 0.9793\n",
      "Epoch 9/10\n",
      "118/118 [==============================] - 0s 4ms/step - loss: 0.0616 - accuracy: 0.9812\n",
      "Epoch 10/10\n",
      "118/118 [==============================] - 0s 4ms/step - loss: 0.0531 - accuracy: 0.9846\n"
     ]
    },
    {
     "data": {
      "text/plain": [
       "<keras.callbacks.History at 0x7fe1658f8e80>"
      ]
     },
     "execution_count": 102,
     "metadata": {},
     "output_type": "execute_result"
    }
   ],
   "source": [
    "model.fit(x=x_train, y=y_train, batch_size=512, epochs=10)"
   ]
  },
  {
   "cell_type": "markdown",
   "id": "92ee2302",
   "metadata": {},
   "source": [
    "## Evaluate the model"
   ]
  },
  {
   "cell_type": "code",
   "execution_count": 103,
   "id": "9ff4b5d0",
   "metadata": {},
   "outputs": [
    {
     "name": "stdout",
     "output_type": "stream",
     "text": [
      "313/313 [==============================] - 0s 691us/step - loss: 0.0774 - accuracy: 0.9763\n",
      "Test Loss: 0.077414371073246, Test Accuracy: 0.9763000011444092\n"
     ]
    }
   ],
   "source": [
    "test_loss, test_acc = model.evaluate(x_test, y_test)\n",
    "print(\"Test Loss: {}, Test Accuracy: {}\".format(test_loss, test_acc))"
   ]
  },
  {
   "cell_type": "code",
   "execution_count": 104,
   "id": "48ff4753",
   "metadata": {},
   "outputs": [
    {
     "name": "stdout",
     "output_type": "stream",
     "text": [
      "313/313 [==============================] - 0s 556us/step\n",
      "[[3.3581108e-07 4.1667618e-06 1.1783638e-05 ... 9.9984181e-01\n",
      "  9.2549897e-07 1.1690141e-05]\n",
      " [1.5795049e-08 1.3703955e-05 9.9996972e-01 ... 2.5784129e-08\n",
      "  2.4106312e-06 1.0855611e-10]\n",
      " [6.6780340e-06 9.9713171e-01 9.3495316e-04 ... 1.2920164e-03\n",
      "  2.9411455e-04 8.2736997e-06]\n",
      " ...\n",
      " [1.6329931e-09 9.2589381e-08 3.5723131e-09 ... 5.6204510e-05\n",
      "  4.4069921e-07 6.4186311e-06]\n",
      " [3.4978086e-08 7.6947391e-09 2.2574020e-09 ... 2.1378828e-07\n",
      "  7.6728291e-05 1.9867402e-08]\n",
      " [7.0751418e-09 2.2006406e-09 2.6995913e-08 ... 1.3068265e-09\n",
      "  7.8788087e-10 1.3068925e-11]]\n",
      "[7 2 1 ... 4 5 6]\n"
     ]
    }
   ],
   "source": [
    "y_pred = model.predict(x_test)\n",
    "y_pred_classes = np.argmax(y_pred, axis=1)\n",
    "print(y_pred)\n",
    "print(y_pred_classes)"
   ]
  },
  {
   "cell_type": "markdown",
   "id": "170687cf",
   "metadata": {},
   "source": [
    "## Confusion Matrix"
   ]
  },
  {
   "cell_type": "code",
   "execution_count": 105,
   "id": "716baf3c",
   "metadata": {},
   "outputs": [
    {
     "data": {
      "image/png": "[encoded data removed]",
      "text/plain": [
       "<Figure size 1000x800 with 2 Axes>"
      ]
     },
     "metadata": {},
     "output_type": "display_data"
    }
   ],
   "source": [
    "from sklearn.metrics import confusion_matrix\n",
    "confusion_mtx = confusion_matrix(y_true, y_pred_classes)\n",
    "\n",
    "# Plot\n",
    "fig, ax = plt.subplots(figsize=(10,8))\n",
    "ax = sns.heatmap(confusion_mtx, annot=True, fmt='d', ax=ax, cmap=\"Blues\")\n",
    "ax.set_xlabel('Predicted Label')\n",
    "ax.set_ylabel('True Label')\n",
    "ax.set_title('Confusion Matrix');"
   ]
  },
  {
   "cell_type": "markdown",
   "id": "a4c53579",
   "metadata": {},
   "source": [
    "Let's take a look at some examples in which our model misclassified."
   ]
  },
  {
   "cell_type": "code",
   "execution_count": 106,
   "id": "b6619bd0",
   "metadata": {},
   "outputs": [],
   "source": [
    "y_true = np.argmax(y_test, axis=1)\n",
    "\n",
    "errors = (y_pred_classes - y_true != 0)\n",
    "y_pred_classes_errors = y_pred_classes[errors]\n",
    "y_true_errors = y_true[errors]"
   ]
  },
  {
   "cell_type": "code",
   "execution_count": 107,
   "id": "6151f869",
   "metadata": {},
   "outputs": [
    {
     "name": "stdout",
     "output_type": "stream",
     "text": [
      "Predicted label :9\n",
      "True label: 4\n"
     ]
    },
    {
     "data": {
      "image/png": "[encoded data removed]",
      "text/plain": [
       "<Figure size 640x480 with 1 Axes>"
      ]
     },
     "metadata": {},
     "output_type": "display_data"
    },
    {
     "name": "stdout",
     "output_type": "stream",
     "text": [
      "Predicted label :9\n",
      "True label: 2\n"
     ]
    },
    {
     "data": {
      "image/png": "[encoded data removed]",
      "text/plain": [
       "<Figure size 640x480 with 1 Axes>"
      ]
     },
     "metadata": {},
     "output_type": "display_data"
    },
    {
     "name": "stdout",
     "output_type": "stream",
     "text": [
      "Predicted label :5\n",
      "True label: 6\n"
     ]
    },
    {
     "data": {
      "image/png": "[encoded data removed]",
      "text/plain": [
       "<Figure size 640x480 with 1 Axes>"
      ]
     },
     "metadata": {},
     "output_type": "display_data"
    }
   ],
   "source": [
    "for i in range(0, 3):\n",
    "    sample = x_test_errors[i].reshape(28,28)\n",
    "    y_t = y_true_errors[i]\n",
    "    y_p = y_pred_classes_errors[i]\n",
    "    print(\"Predicted label :{}\\nTrue label: {}\".format(y_p, y_t))\n",
    "    plt.imshow(sample, cmap=\"gray\")\n",
    "    plt.axis('off')\n",
    "    plt.show()"
   ]
  }
 ],
 "metadata": {
  "kernelspec": {
   "display_name": "Python 3 (ipykernel)",
   "language": "python",
   "name": "python3"
  },
  "language_info": {
   "codemirror_mode": {
    "name": "ipython",
    "version": 3
   },
   "file_extension": ".py",
   "mimetype": "text/x-python",
   "name": "python",
   "nbconvert_exporter": "python",
   "pygments_lexer": "ipython3",
   "version": "3.10.6"
  }
 },
 "nbformat": 4,
 "nbformat_minor": 5
}
